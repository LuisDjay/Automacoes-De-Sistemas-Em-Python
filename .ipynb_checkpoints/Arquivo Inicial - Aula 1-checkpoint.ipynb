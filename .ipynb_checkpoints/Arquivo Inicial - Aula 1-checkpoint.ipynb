{
 "cells": [
  {
   "cell_type": "markdown",
   "metadata": {},
   "source": [
    "# Automação de Sistemas e Processos com Python\n",
    "\n",
    "### Desafio:\n",
    "\n",
    "Todos os dias, o nosso sistema atualiza as vendas do dia anterior.\n",
    "O seu trabalho diário, como analista, é enviar um e-mail para a diretoria, assim que começar a trabalhar, com o faturamento e a quantidade de produtos vendidos no dia anterior\n",
    "\n",
    "E-mail da diretoria: seugmail+diretoria@gmail.com<br>\n",
    "Local onde o sistema disponibiliza as vendas do dia anterior: https://drive.google.com/drive/folders/149xknr9JvrlEnhNWO49zPcw0PW5icxga?usp=sharing\n",
    "\n",
    "Para resolver isso, vamos usar o pyautogui, uma biblioteca de automação de comandos do mouse e do teclado\n",
    "\n"
   ]
  },
  {
   "cell_type": "markdown",
   "metadata": {},
   "source": [
    "Passo a Passo para resolver o nosso desafio :\n",
    "\n",
    "Passo 1 - Entrar no sistema da empresa (entrar no link: https://drive.google.com/drive/folders/149xknr9JvrlEnhNWO49zPcw0PW5icxga?usp=sharing )\n",
    "Passo 2 - Navegar até o local onde está nossa base de dados (Entrar na pasta exportar)\n",
    "Passo 3 - Baixar a planilha de vendas\n",
    "Passo 4 - Calcular o faturamento e quantidade de produtos vendidos da base \n",
    "Passo 5 - Enviar email para a Diretoria com a quantidade e o faturamento que calculamos \n"
   ]
  },
  {
   "cell_type": "code",
   "execution_count": null,
   "metadata": {},
   "outputs": [],
   "source": [
    "import pyautogui\n",
    "import time\n",
    "import pyperclip\n",
    "\n",
    "# Passo 1 \n",
    "# Abrir uma nova aba\n",
    "pyautogui.hotkey('command','space')\n",
    "#pyautogui.write('safari')\n",
    "#pyautogui.press('return')\n",
    "pyautogui.hotkey('command','t')\n",
    "\n",
    "# Entrar no link do sistema\n",
    "#pyautogui.PAUSE = 0.5\n",
    "#pyautogui.write('https://drive.google.com/drive/folders/149xknr9JvrlEnhNWO49zPcw0PW5icxga?usp=sharing')\n",
    "#link = 'https://drive.google.com/drive/folders/149xknr9JvrlEnhNWO49zPcw0PW5icxga?usp=sharing'\n",
    "link = 'https://drive.google.com/drive/folders/14oLE59U1RqyRqlBbKpsyymW-mitvbtoh'\n",
    "pyperclip.copy(link)\n",
    "time.sleep(1)\n",
    "pyautogui.hotkey('command','v')\n",
    "pyautogui.press('return')\n",
    "time.sleep(1)\n",
    "#pyautogui.hotkey('command','t')\n",
    "\n",
    "#Passo 2 \n",
    "#time.sleep(1)\n",
    "#pyautogui.click(384,305)\n",
    "#pyautogui.click(clicks=2)\n",
    "\n",
    "#Passo 3 \n",
    "pyautogui.click(372,361) # clicar no arquivo\n",
    "time.sleep(2)\n",
    "pyautogui.click(1239,191)#clicar nos 3 pontos \n",
    "time.sleep(2)\n",
    "pyautogui.click(1034,564) #fazer o download\n",
    "time.sleep(3)\n",
    "pyautogui.click(1064,660) # salvar o arquivo\n",
    "time.sleep(10)\n"
   ]
  },
  {
   "cell_type": "markdown",
   "metadata": {},
   "source": [
    "### Vamos agora ler o arquivo baixado para pegar os indicadores\n",
    "\n",
    "- Faturamento\n",
    "- Quantidade de Produtos"
   ]
  },
  {
   "cell_type": "code",
   "execution_count": null,
   "metadata": {},
   "outputs": [],
   "source": [
    "# Passo 4\n",
    "import pandas as pd\n",
    "\n",
    "tabela = pd.read_excel(r'/Users/psyco/Downloads/Vendas-Dez.xlsx')\n",
    "faturamento = tabela['Valor Final'].sum() # soma da coluna Valor final\n",
    "quantidade = tabela ['Quantidade'].sum()# soma da coluna Quantidade \n",
    "display(tabela)\n",
    "\n"
   ]
  },
  {
   "cell_type": "markdown",
   "metadata": {},
   "source": [
    "### Vamos agora enviar um e-mail pelo gmail"
   ]
  },
  {
   "cell_type": "code",
   "execution_count": null,
   "metadata": {},
   "outputs": [],
   "source": [
    "# Passo 5 \n"
   ]
  },
  {
   "cell_type": "markdown",
   "metadata": {},
   "source": [
    "#### Use esse código para descobrir qual a posição de um item que queira clicar\n",
    "\n",
    "- Lembre-se: a posição na sua tela é diferente da posição na minha tela"
   ]
  },
  {
   "cell_type": "code",
   "execution_count": null,
   "metadata": {},
   "outputs": [],
   "source": [
    "time.sleep(5)\n",
    "pyautogui.position"
   ]
  }
 ],
 "metadata": {
  "interpreter": {
   "hash": "b0fa6594d8f4cbf19f97940f81e996739fb7646882a419484c72d19e05852a7e"
  },
  "kernelspec": {
   "display_name": "Python 3",
   "language": "python",
   "name": "python3"
  },
  "language_info": {
   "codemirror_mode": {
    "name": "ipython",
    "version": 3
   },
   "file_extension": ".py",
   "mimetype": "text/x-python",
   "name": "python",
   "nbconvert_exporter": "python",
   "pygments_lexer": "ipython3",
   "version": "3.8.8"
  }
 },
 "nbformat": 4,
 "nbformat_minor": 4
}
