{
 "cells": [
  {
   "cell_type": "markdown",
   "metadata": {},
   "source": [
    "# Automação de Sistemas e Processos com Python\n",
    "\n",
    "### Desafio:\n",
    "\n",
    "Todos os dias, o nosso sistema atualiza as vendas do dia anterior.\n",
    "O seu trabalho diário, como analista, é enviar um e-mail para a diretoria, assim que começar a trabalhar, com o faturamento e a quantidade de produtos vendidos no dia anterior\n",
    "\n",
    "E-mail da diretoria: seugmail+diretoria@gmail.com<br>\n",
    "Local onde o sistema disponibiliza as vendas do dia anterior: https://drive.google.com/drive/folders/149xknr9JvrlEnhNWO49zPcw0PW5icxga?usp=sharing\n",
    "\n",
    "Para resolver isso, vamos usar o pyautogui, uma biblioteca de automação de comandos do mouse e do teclado\n",
    "\n"
   ]
  },
  {
   "source": [
    "Passo a Passo para resolver o nosso desafio :\n",
    "\n",
    "Passo 1 - Entrar no sistema da empresa (entrar no link: https://drive.google.com/drive/folders/149xknr9JvrlEnhNWO49zPcw0PW5icxga?usp=sharing )\n",
    "Passo 2 - Navegar até o local onde está nossa base de dados (Entrar na pasta exportar)\n",
    "Passo 3 - Baixar a planilha de vendas\n",
    "Passo 4 - Calcular o faturamento e quantidade de produtos vendidos da base \n",
    "Passo 5 - Enviar email para a Diretoria com a quantidade e o faturamento que calculamos \n"
   ],
   "cell_type": "markdown",
   "metadata": {}
  },
  {
   "cell_type": "code",
   "execution_count": 10,
   "metadata": {},
   "outputs": [],
   "source": [
    "import pyautogui\n",
    "import time\n",
    "import pyperclip\n",
    "\n",
    "# Passo 1 \n",
    "# Abrir uma nova aba\n",
    "pyautogui.hotkey('command','space')\n",
    "pyautogui.write('safari')\n",
    "pyautogui.press('return')\n",
    "time.sleep(0.5)\n",
    "pyautogui.hotkey('command', 't')\n",
    "\n",
    "# Entrar no link do sistema\n",
    "#pyautogui.PAUSE = 0.5\n",
    "#pyautogui.write('https://drive.google.com/drive/folders/149xknr9JvrlEnhNWO49zPcw0PW5icxga?usp=sharing')\n",
    "#link = 'https://drive.google.com/drive/folders/149xknr9JvrlEnhNWO49zPcw0PW5icxga?usp=sharing'\n",
    "link = 'https://drive.google.com/drive/folders/14oLE59U1RqyRqlBbKpsyymW-mitvbtoh'\n",
    "pyperclip.copy(link)\n",
    "time.sleep(1)\n",
    "pyautogui.hotkey('command','v')\n",
    "pyautogui.press('return')\n",
    "time.sleep(1)\n",
    "#pyautogui.hotkey('command','t')\n",
    "\n",
    "#Passo 2 \n",
    "#time.sleep(1)\n",
    "#pyautogui.click(384,305)\n",
    "#pyautogui.click(clicks=2)\n",
    "\n",
    "#Passo 3 \n",
    "pyautogui.click(372,361) # clicar no arquivo\n",
    "time.sleep(2)\n",
    "pyautogui.click(1239,191)#clicar nos 3 pontos \n",
    "time.sleep(2)\n",
    "pyautogui.click(1034,564) #fazer o download\n",
    "time.sleep(3)\n",
    "pyautogui.click(1064,660) # salvar o arquivo\n",
    "time.sleep(10)\n"
   ]
  },
  {
   "cell_type": "markdown",
   "metadata": {},
   "source": [
    "### Vamos agora ler o arquivo baixado para pegar os indicadores\n",
    "\n",
    "- Faturamento\n",
    "- Quantidade de Produtos"
   ]
  },
  {
   "cell_type": "code",
   "execution_count": 4,
   "metadata": {},
   "outputs": [
    {
     "output_type": "display_data",
     "data": {
      "text/plain": "      Código Venda       Data                     ID Loja           Produto  \\\n0            65014 2019-12-01            Shopping Morumbi    Sunga Listrado   \n1            65014 2019-12-01            Shopping Morumbi   Casaco Listrado   \n2            65016 2019-12-01           Iguatemi Campinas   Sapato Listrado   \n3            65016 2019-12-01           Iguatemi Campinas            Casaco   \n4            65017 2019-12-01          Shopping SP Market        Gorro Liso   \n...            ...        ...                         ...               ...   \n7084         69996 2019-12-26  Center Shopping Uberlândia    Short Listrado   \n7085         69996 2019-12-26  Center Shopping Uberlândia           Mochila   \n7086         69996 2019-12-26  Center Shopping Uberlândia  Pulseira Estampa   \n7087         69997 2019-12-26           Ribeirão Shopping   Camisa Listrado   \n7088         69997 2019-12-26           Ribeirão Shopping       Short Linho   \n\n      Quantidade  Valor Unitário  Valor Final  \n0              5             114          570  \n1              1             269          269  \n2              2             363          726  \n3              1             250          250  \n4              3              92          276  \n...          ...             ...          ...  \n7084           2             102          204  \n7085           4             270         1080  \n7086           1              87           87  \n7087           1             108          108  \n7088           2             133          266  \n\n[7089 rows x 7 columns]",
      "text/html": "<div>\n<style scoped>\n    .dataframe tbody tr th:only-of-type {\n        vertical-align: middle;\n    }\n\n    .dataframe tbody tr th {\n        vertical-align: top;\n    }\n\n    .dataframe thead th {\n        text-align: right;\n    }\n</style>\n<table border=\"1\" class=\"dataframe\">\n  <thead>\n    <tr style=\"text-align: right;\">\n      <th></th>\n      <th>Código Venda</th>\n      <th>Data</th>\n      <th>ID Loja</th>\n      <th>Produto</th>\n      <th>Quantidade</th>\n      <th>Valor Unitário</th>\n      <th>Valor Final</th>\n    </tr>\n  </thead>\n  <tbody>\n    <tr>\n      <th>0</th>\n      <td>65014</td>\n      <td>2019-12-01</td>\n      <td>Shopping Morumbi</td>\n      <td>Sunga Listrado</td>\n      <td>5</td>\n      <td>114</td>\n      <td>570</td>\n    </tr>\n    <tr>\n      <th>1</th>\n      <td>65014</td>\n      <td>2019-12-01</td>\n      <td>Shopping Morumbi</td>\n      <td>Casaco Listrado</td>\n      <td>1</td>\n      <td>269</td>\n      <td>269</td>\n    </tr>\n    <tr>\n      <th>2</th>\n      <td>65016</td>\n      <td>2019-12-01</td>\n      <td>Iguatemi Campinas</td>\n      <td>Sapato Listrado</td>\n      <td>2</td>\n      <td>363</td>\n      <td>726</td>\n    </tr>\n    <tr>\n      <th>3</th>\n      <td>65016</td>\n      <td>2019-12-01</td>\n      <td>Iguatemi Campinas</td>\n      <td>Casaco</td>\n      <td>1</td>\n      <td>250</td>\n      <td>250</td>\n    </tr>\n    <tr>\n      <th>4</th>\n      <td>65017</td>\n      <td>2019-12-01</td>\n      <td>Shopping SP Market</td>\n      <td>Gorro Liso</td>\n      <td>3</td>\n      <td>92</td>\n      <td>276</td>\n    </tr>\n    <tr>\n      <th>...</th>\n      <td>...</td>\n      <td>...</td>\n      <td>...</td>\n      <td>...</td>\n      <td>...</td>\n      <td>...</td>\n      <td>...</td>\n    </tr>\n    <tr>\n      <th>7084</th>\n      <td>69996</td>\n      <td>2019-12-26</td>\n      <td>Center Shopping Uberlândia</td>\n      <td>Short Listrado</td>\n      <td>2</td>\n      <td>102</td>\n      <td>204</td>\n    </tr>\n    <tr>\n      <th>7085</th>\n      <td>69996</td>\n      <td>2019-12-26</td>\n      <td>Center Shopping Uberlândia</td>\n      <td>Mochila</td>\n      <td>4</td>\n      <td>270</td>\n      <td>1080</td>\n    </tr>\n    <tr>\n      <th>7086</th>\n      <td>69996</td>\n      <td>2019-12-26</td>\n      <td>Center Shopping Uberlândia</td>\n      <td>Pulseira Estampa</td>\n      <td>1</td>\n      <td>87</td>\n      <td>87</td>\n    </tr>\n    <tr>\n      <th>7087</th>\n      <td>69997</td>\n      <td>2019-12-26</td>\n      <td>Ribeirão Shopping</td>\n      <td>Camisa Listrado</td>\n      <td>1</td>\n      <td>108</td>\n      <td>108</td>\n    </tr>\n    <tr>\n      <th>7088</th>\n      <td>69997</td>\n      <td>2019-12-26</td>\n      <td>Ribeirão Shopping</td>\n      <td>Short Linho</td>\n      <td>2</td>\n      <td>133</td>\n      <td>266</td>\n    </tr>\n  </tbody>\n</table>\n<p>7089 rows × 7 columns</p>\n</div>"
     },
     "metadata": {}
    }
   ],
   "source": [
    "# Passo 4\n",
    "import pandas as pd\n",
    "\n",
    "tabela = pd.read_excel(r'/Users/psyco/Downloads/Vendas-Dez.xlsx')\n",
    "faturamento = tabela['Valor Final'].sum() # soma da coluna Valor final\n",
    "quantidade = tabela ['Quantidade'].sum()# soma da coluna Quantidade \n",
    "display(tabela)\n",
    "\n"
   ]
  },
  {
   "cell_type": "markdown",
   "metadata": {},
   "source": [
    "### Vamos agora enviar um e-mail pelo gmail"
   ]
  },
  {
   "cell_type": "code",
   "execution_count": null,
   "metadata": {},
   "outputs": [],
   "source": [
    "# Passo 5 \n"
   ]
  },
  {
   "cell_type": "markdown",
   "metadata": {},
   "source": [
    "#### Use esse código para descobrir qual a posição de um item que queira clicar\n",
    "\n",
    "- Lembre-se: a posição na sua tela é diferente da posição na minha tela"
   ]
  },
  {
   "cell_type": "code",
   "execution_count": null,
   "metadata": {},
   "outputs": [],
   "source": [
    "time.sleep(5)\n",
    "pyautogui.position"
   ]
  }
 ],
 "metadata": {
  "kernelspec": {
   "name": "python3",
   "display_name": "Python 3.9.5 64-bit"
  },
  "language_info": {
   "codemirror_mode": {
    "name": "ipython",
    "version": 3
   },
   "file_extension": ".py",
   "mimetype": "text/x-python",
   "name": "python",
   "nbconvert_exporter": "python",
   "pygments_lexer": "ipython3",
   "version": "3.9.5"
  },
  "interpreter": {
   "hash": "b0fa6594d8f4cbf19f97940f81e996739fb7646882a419484c72d19e05852a7e"
  }
 },
 "nbformat": 4,
 "nbformat_minor": 4
}